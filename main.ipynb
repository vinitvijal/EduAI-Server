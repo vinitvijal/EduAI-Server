{
 "cells": [
  {
   "cell_type": "code",
   "execution_count": 1,
   "metadata": {},
   "outputs": [
    {
     "name": "stdout",
     "output_type": "stream",
     "text": [
      "Defaulting to user installation because normal site-packages is not writeable\n",
      "Requirement already satisfied: langchain in /Users/vinu/Library/Python/3.9/lib/python/site-packages (0.3.3)\n",
      "Requirement already satisfied: chromadb in /Users/vinu/Library/Python/3.9/lib/python/site-packages (0.5.15)\n",
      "Requirement already satisfied: pypdf2 in /Users/vinu/Library/Python/3.9/lib/python/site-packages (3.0.1)\n",
      "Requirement already satisfied: ollama in /Users/vinu/Library/Python/3.9/lib/python/site-packages (0.3.3)\n",
      "Requirement already satisfied: langchain_community in /Users/vinu/Library/Python/3.9/lib/python/site-packages (0.3.2)\n",
      "Requirement already satisfied: langchain-ollama in /Users/vinu/Library/Python/3.9/lib/python/site-packages (0.2.0)\n",
      "Requirement already satisfied: openai in /Users/vinu/Library/Python/3.9/lib/python/site-packages (1.52.0)\n",
      "Requirement already satisfied: tiktoken in /Users/vinu/Library/Python/3.9/lib/python/site-packages (0.8.0)\n",
      "Requirement already satisfied: langsmith<0.2.0,>=0.1.17 in /Users/vinu/Library/Python/3.9/lib/python/site-packages (from langchain) (0.1.136)\n",
      "Requirement already satisfied: numpy<2,>=1 in /Users/vinu/Library/Python/3.9/lib/python/site-packages (from langchain) (1.26.4)\n",
      "Requirement already satisfied: langchain-text-splitters<0.4.0,>=0.3.0 in /Users/vinu/Library/Python/3.9/lib/python/site-packages (from langchain) (0.3.0)\n",
      "Requirement already satisfied: pydantic<3.0.0,>=2.7.4 in /Users/vinu/Library/Python/3.9/lib/python/site-packages (from langchain) (2.9.2)\n",
      "Requirement already satisfied: PyYAML>=5.3 in /Users/vinu/Library/Python/3.9/lib/python/site-packages (from langchain) (6.0.2)\n",
      "Requirement already satisfied: langchain-core<0.4.0,>=0.3.10 in /Users/vinu/Library/Python/3.9/lib/python/site-packages (from langchain) (0.3.12)\n",
      "Requirement already satisfied: SQLAlchemy<3,>=1.4 in /Users/vinu/Library/Python/3.9/lib/python/site-packages (from langchain) (2.0.36)\n",
      "Requirement already satisfied: async-timeout<5.0.0,>=4.0.0 in /Users/vinu/Library/Python/3.9/lib/python/site-packages (from langchain) (4.0.3)\n",
      "Requirement already satisfied: requests<3,>=2 in /Users/vinu/Library/Python/3.9/lib/python/site-packages (from langchain) (2.32.3)\n",
      "Requirement already satisfied: aiohttp<4.0.0,>=3.8.3 in /Users/vinu/Library/Python/3.9/lib/python/site-packages (from langchain) (3.10.10)\n",
      "Requirement already satisfied: tenacity!=8.4.0,<9.0.0,>=8.1.0 in /Users/vinu/Library/Python/3.9/lib/python/site-packages (from langchain) (8.5.0)\n",
      "Requirement already satisfied: chroma-hnswlib==0.7.6 in /Users/vinu/Library/Python/3.9/lib/python/site-packages (from chromadb) (0.7.6)\n",
      "Requirement already satisfied: orjson>=3.9.12 in /Users/vinu/Library/Python/3.9/lib/python/site-packages (from chromadb) (3.10.7)\n",
      "Requirement already satisfied: opentelemetry-sdk>=1.2.0 in /Users/vinu/Library/Python/3.9/lib/python/site-packages (from chromadb) (1.27.0)\n",
      "Requirement already satisfied: pypika>=0.48.9 in /Users/vinu/Library/Python/3.9/lib/python/site-packages (from chromadb) (0.48.9)\n",
      "Requirement already satisfied: uvicorn[standard]>=0.18.3 in /Users/vinu/Library/Python/3.9/lib/python/site-packages (from chromadb) (0.32.0)\n",
      "Requirement already satisfied: build>=1.0.3 in /Users/vinu/Library/Python/3.9/lib/python/site-packages (from chromadb) (1.2.2.post1)\n",
      "Requirement already satisfied: importlib-resources in /Users/vinu/Library/Python/3.9/lib/python/site-packages (from chromadb) (6.4.5)\n",
      "Requirement already satisfied: overrides>=7.3.1 in /Users/vinu/Library/Python/3.9/lib/python/site-packages (from chromadb) (7.7.0)\n",
      "Requirement already satisfied: tqdm>=4.65.0 in /Users/vinu/Library/Python/3.9/lib/python/site-packages (from chromadb) (4.66.5)\n",
      "Requirement already satisfied: typer>=0.9.0 in /Users/vinu/Library/Python/3.9/lib/python/site-packages (from chromadb) (0.12.5)\n",
      "Requirement already satisfied: grpcio>=1.58.0 in /Users/vinu/Library/Python/3.9/lib/python/site-packages (from chromadb) (1.67.0)\n",
      "Requirement already satisfied: rich>=10.11.0 in /Users/vinu/Library/Python/3.9/lib/python/site-packages (from chromadb) (13.9.2)\n",
      "Requirement already satisfied: tokenizers>=0.13.2 in /Users/vinu/Library/Python/3.9/lib/python/site-packages (from chromadb) (0.20.1)\n",
      "Requirement already satisfied: kubernetes>=28.1.0 in /Users/vinu/Library/Python/3.9/lib/python/site-packages (from chromadb) (31.0.0)\n",
      "Requirement already satisfied: typing-extensions>=4.5.0 in /Users/vinu/Library/Python/3.9/lib/python/site-packages (from chromadb) (4.12.2)\n",
      "Requirement already satisfied: httpx>=0.27.0 in /Users/vinu/Library/Python/3.9/lib/python/site-packages (from chromadb) (0.27.2)\n",
      "Requirement already satisfied: fastapi>=0.95.2 in /Users/vinu/Library/Python/3.9/lib/python/site-packages (from chromadb) (0.115.2)\n",
      "Requirement already satisfied: opentelemetry-api>=1.2.0 in /Users/vinu/Library/Python/3.9/lib/python/site-packages (from chromadb) (1.27.0)\n",
      "Requirement already satisfied: opentelemetry-exporter-otlp-proto-grpc>=1.2.0 in /Users/vinu/Library/Python/3.9/lib/python/site-packages (from chromadb) (1.27.0)\n",
      "Requirement already satisfied: bcrypt>=4.0.1 in /Users/vinu/Library/Python/3.9/lib/python/site-packages (from chromadb) (4.2.0)\n",
      "Requirement already satisfied: posthog>=2.4.0 in /Users/vinu/Library/Python/3.9/lib/python/site-packages (from chromadb) (3.7.0)\n",
      "Requirement already satisfied: onnxruntime>=1.14.1 in /Users/vinu/Library/Python/3.9/lib/python/site-packages (from chromadb) (1.19.2)\n",
      "Requirement already satisfied: opentelemetry-instrumentation-fastapi>=0.41b0 in /Users/vinu/Library/Python/3.9/lib/python/site-packages (from chromadb) (0.48b0)\n",
      "Requirement already satisfied: mmh3>=4.0.1 in /Users/vinu/Library/Python/3.9/lib/python/site-packages (from chromadb) (5.0.1)\n",
      "Requirement already satisfied: dataclasses-json<0.7,>=0.5.7 in /Users/vinu/Library/Python/3.9/lib/python/site-packages (from langchain_community) (0.6.7)\n",
      "Requirement already satisfied: pydantic-settings<3.0.0,>=2.4.0 in /Users/vinu/Library/Python/3.9/lib/python/site-packages (from langchain_community) (2.6.0)\n",
      "Requirement already satisfied: sniffio in /Users/vinu/Library/Python/3.9/lib/python/site-packages (from openai) (1.3.1)\n",
      "Requirement already satisfied: jiter<1,>=0.4.0 in /Users/vinu/Library/Python/3.9/lib/python/site-packages (from openai) (0.6.1)\n",
      "Requirement already satisfied: anyio<5,>=3.5.0 in /Users/vinu/Library/Python/3.9/lib/python/site-packages (from openai) (4.6.2.post1)\n",
      "Requirement already satisfied: distro<2,>=1.7.0 in /Users/vinu/Library/Python/3.9/lib/python/site-packages (from openai) (1.9.0)\n",
      "Requirement already satisfied: regex>=2022.1.18 in /Users/vinu/Library/Python/3.9/lib/python/site-packages (from tiktoken) (2024.9.11)\n",
      "Requirement already satisfied: aiosignal>=1.1.2 in /Users/vinu/Library/Python/3.9/lib/python/site-packages (from aiohttp<4.0.0,>=3.8.3->langchain) (1.3.1)\n",
      "Requirement already satisfied: aiohappyeyeballs>=2.3.0 in /Users/vinu/Library/Python/3.9/lib/python/site-packages (from aiohttp<4.0.0,>=3.8.3->langchain) (2.4.3)\n",
      "Requirement already satisfied: yarl<2.0,>=1.12.0 in /Users/vinu/Library/Python/3.9/lib/python/site-packages (from aiohttp<4.0.0,>=3.8.3->langchain) (1.15.4)\n",
      "Requirement already satisfied: attrs>=17.3.0 in /Users/vinu/Library/Python/3.9/lib/python/site-packages (from aiohttp<4.0.0,>=3.8.3->langchain) (24.2.0)\n",
      "Requirement already satisfied: multidict<7.0,>=4.5 in /Users/vinu/Library/Python/3.9/lib/python/site-packages (from aiohttp<4.0.0,>=3.8.3->langchain) (6.1.0)\n",
      "Requirement already satisfied: frozenlist>=1.1.1 in /Users/vinu/Library/Python/3.9/lib/python/site-packages (from aiohttp<4.0.0,>=3.8.3->langchain) (1.4.1)\n",
      "Requirement already satisfied: idna>=2.8 in /Users/vinu/Library/Python/3.9/lib/python/site-packages (from anyio<5,>=3.5.0->openai) (3.10)\n",
      "Requirement already satisfied: exceptiongroup>=1.0.2 in /Users/vinu/Library/Python/3.9/lib/python/site-packages (from anyio<5,>=3.5.0->openai) (1.2.2)\n",
      "Requirement already satisfied: tomli>=1.1.0 in /Users/vinu/Library/Python/3.9/lib/python/site-packages (from build>=1.0.3->chromadb) (2.0.2)\n",
      "Requirement already satisfied: packaging>=19.1 in /Users/vinu/Library/Python/3.9/lib/python/site-packages (from build>=1.0.3->chromadb) (24.1)\n",
      "Requirement already satisfied: importlib-metadata>=4.6 in /Users/vinu/Library/Python/3.9/lib/python/site-packages (from build>=1.0.3->chromadb) (8.4.0)\n",
      "Requirement already satisfied: pyproject_hooks in /Users/vinu/Library/Python/3.9/lib/python/site-packages (from build>=1.0.3->chromadb) (1.2.0)\n",
      "Requirement already satisfied: typing-inspect<1,>=0.4.0 in /Users/vinu/Library/Python/3.9/lib/python/site-packages (from dataclasses-json<0.7,>=0.5.7->langchain_community) (0.9.0)\n",
      "Requirement already satisfied: marshmallow<4.0.0,>=3.18.0 in /Users/vinu/Library/Python/3.9/lib/python/site-packages (from dataclasses-json<0.7,>=0.5.7->langchain_community) (3.23.0)\n",
      "Requirement already satisfied: starlette<0.41.0,>=0.37.2 in /Users/vinu/Library/Python/3.9/lib/python/site-packages (from fastapi>=0.95.2->chromadb) (0.40.0)\n",
      "Requirement already satisfied: certifi in /Users/vinu/Library/Python/3.9/lib/python/site-packages (from httpx>=0.27.0->chromadb) (2024.8.30)\n",
      "Requirement already satisfied: httpcore==1.* in /Users/vinu/Library/Python/3.9/lib/python/site-packages (from httpx>=0.27.0->chromadb) (1.0.6)\n",
      "Requirement already satisfied: h11<0.15,>=0.13 in /Users/vinu/Library/Python/3.9/lib/python/site-packages (from httpcore==1.*->httpx>=0.27.0->chromadb) (0.14.0)\n",
      "Requirement already satisfied: zipp>=0.5 in /Users/vinu/Library/Python/3.9/lib/python/site-packages (from importlib-metadata>=4.6->build>=1.0.3->chromadb) (3.20.2)\n",
      "Requirement already satisfied: websocket-client!=0.40.0,!=0.41.*,!=0.42.*,>=0.32.0 in /Users/vinu/Library/Python/3.9/lib/python/site-packages (from kubernetes>=28.1.0->chromadb) (1.8.0)\n",
      "Requirement already satisfied: six>=1.9.0 in /Library/Developer/CommandLineTools/Library/Frameworks/Python3.framework/Versions/3.9/lib/python3.9/site-packages (from kubernetes>=28.1.0->chromadb) (1.15.0)\n",
      "Requirement already satisfied: oauthlib>=3.2.2 in /Users/vinu/Library/Python/3.9/lib/python/site-packages (from kubernetes>=28.1.0->chromadb) (3.2.2)\n",
      "Requirement already satisfied: urllib3>=1.24.2 in /Users/vinu/Library/Python/3.9/lib/python/site-packages (from kubernetes>=28.1.0->chromadb) (2.2.3)\n",
      "Requirement already satisfied: requests-oauthlib in /Users/vinu/Library/Python/3.9/lib/python/site-packages (from kubernetes>=28.1.0->chromadb) (2.0.0)\n",
      "Requirement already satisfied: python-dateutil>=2.5.3 in /Users/vinu/Library/Python/3.9/lib/python/site-packages (from kubernetes>=28.1.0->chromadb) (2.9.0.post0)\n",
      "Requirement already satisfied: durationpy>=0.7 in /Users/vinu/Library/Python/3.9/lib/python/site-packages (from kubernetes>=28.1.0->chromadb) (0.9)\n",
      "Requirement already satisfied: google-auth>=1.0.1 in /Users/vinu/Library/Python/3.9/lib/python/site-packages (from kubernetes>=28.1.0->chromadb) (2.35.0)\n",
      "Requirement already satisfied: cachetools<6.0,>=2.0.0 in /Users/vinu/Library/Python/3.9/lib/python/site-packages (from google-auth>=1.0.1->kubernetes>=28.1.0->chromadb) (5.5.0)\n",
      "Requirement already satisfied: rsa<5,>=3.1.4 in /Users/vinu/Library/Python/3.9/lib/python/site-packages (from google-auth>=1.0.1->kubernetes>=28.1.0->chromadb) (4.9)\n",
      "Requirement already satisfied: pyasn1-modules>=0.2.1 in /Users/vinu/Library/Python/3.9/lib/python/site-packages (from google-auth>=1.0.1->kubernetes>=28.1.0->chromadb) (0.4.1)\n",
      "Requirement already satisfied: jsonpatch<2.0,>=1.33 in /Users/vinu/Library/Python/3.9/lib/python/site-packages (from langchain-core<0.4.0,>=0.3.10->langchain) (1.33)\n",
      "Requirement already satisfied: jsonpointer>=1.9 in /Users/vinu/Library/Python/3.9/lib/python/site-packages (from jsonpatch<2.0,>=1.33->langchain-core<0.4.0,>=0.3.10->langchain) (3.0.0)\n",
      "Requirement already satisfied: requests-toolbelt<2.0.0,>=1.0.0 in /Users/vinu/Library/Python/3.9/lib/python/site-packages (from langsmith<0.2.0,>=0.1.17->langchain) (1.0.0)\n",
      "Requirement already satisfied: sympy in /Users/vinu/Library/Python/3.9/lib/python/site-packages (from onnxruntime>=1.14.1->chromadb) (1.13.3)\n",
      "Requirement already satisfied: protobuf in /Users/vinu/Library/Python/3.9/lib/python/site-packages (from onnxruntime>=1.14.1->chromadb) (4.25.5)\n",
      "Requirement already satisfied: flatbuffers in /Users/vinu/Library/Python/3.9/lib/python/site-packages (from onnxruntime>=1.14.1->chromadb) (24.3.25)\n",
      "Requirement already satisfied: coloredlogs in /Users/vinu/Library/Python/3.9/lib/python/site-packages (from onnxruntime>=1.14.1->chromadb) (15.0.1)\n",
      "Requirement already satisfied: deprecated>=1.2.6 in /Users/vinu/Library/Python/3.9/lib/python/site-packages (from opentelemetry-api>=1.2.0->chromadb) (1.2.14)\n",
      "Requirement already satisfied: wrapt<2,>=1.10 in /Users/vinu/Library/Python/3.9/lib/python/site-packages (from deprecated>=1.2.6->opentelemetry-api>=1.2.0->chromadb) (1.16.0)\n",
      "Requirement already satisfied: opentelemetry-exporter-otlp-proto-common==1.27.0 in /Users/vinu/Library/Python/3.9/lib/python/site-packages (from opentelemetry-exporter-otlp-proto-grpc>=1.2.0->chromadb) (1.27.0)\n",
      "Requirement already satisfied: opentelemetry-proto==1.27.0 in /Users/vinu/Library/Python/3.9/lib/python/site-packages (from opentelemetry-exporter-otlp-proto-grpc>=1.2.0->chromadb) (1.27.0)\n",
      "Requirement already satisfied: googleapis-common-protos~=1.52 in /Users/vinu/Library/Python/3.9/lib/python/site-packages (from opentelemetry-exporter-otlp-proto-grpc>=1.2.0->chromadb) (1.65.0)\n",
      "Requirement already satisfied: opentelemetry-instrumentation==0.48b0 in /Users/vinu/Library/Python/3.9/lib/python/site-packages (from opentelemetry-instrumentation-fastapi>=0.41b0->chromadb) (0.48b0)\n",
      "Requirement already satisfied: opentelemetry-instrumentation-asgi==0.48b0 in /Users/vinu/Library/Python/3.9/lib/python/site-packages (from opentelemetry-instrumentation-fastapi>=0.41b0->chromadb) (0.48b0)\n",
      "Requirement already satisfied: opentelemetry-util-http==0.48b0 in /Users/vinu/Library/Python/3.9/lib/python/site-packages (from opentelemetry-instrumentation-fastapi>=0.41b0->chromadb) (0.48b0)\n",
      "Requirement already satisfied: opentelemetry-semantic-conventions==0.48b0 in /Users/vinu/Library/Python/3.9/lib/python/site-packages (from opentelemetry-instrumentation-fastapi>=0.41b0->chromadb) (0.48b0)\n",
      "Requirement already satisfied: setuptools>=16.0 in /Library/Developer/CommandLineTools/Library/Frameworks/Python3.framework/Versions/3.9/lib/python3.9/site-packages (from opentelemetry-instrumentation==0.48b0->opentelemetry-instrumentation-fastapi>=0.41b0->chromadb) (58.0.4)\n",
      "Requirement already satisfied: asgiref~=3.0 in /Users/vinu/Library/Python/3.9/lib/python/site-packages (from opentelemetry-instrumentation-asgi==0.48b0->opentelemetry-instrumentation-fastapi>=0.41b0->chromadb) (3.8.1)\n",
      "Requirement already satisfied: monotonic>=1.5 in /Users/vinu/Library/Python/3.9/lib/python/site-packages (from posthog>=2.4.0->chromadb) (1.6)\n",
      "Requirement already satisfied: backoff>=1.10.0 in /Users/vinu/Library/Python/3.9/lib/python/site-packages (from posthog>=2.4.0->chromadb) (2.2.1)\n",
      "Requirement already satisfied: pyasn1<0.7.0,>=0.4.6 in /Users/vinu/Library/Python/3.9/lib/python/site-packages (from pyasn1-modules>=0.2.1->google-auth>=1.0.1->kubernetes>=28.1.0->chromadb) (0.6.1)\n",
      "Requirement already satisfied: pydantic-core==2.23.4 in /Users/vinu/Library/Python/3.9/lib/python/site-packages (from pydantic<3.0.0,>=2.7.4->langchain) (2.23.4)\n",
      "Requirement already satisfied: annotated-types>=0.6.0 in /Users/vinu/Library/Python/3.9/lib/python/site-packages (from pydantic<3.0.0,>=2.7.4->langchain) (0.7.0)\n",
      "Requirement already satisfied: python-dotenv>=0.21.0 in /Users/vinu/Library/Python/3.9/lib/python/site-packages (from pydantic-settings<3.0.0,>=2.4.0->langchain_community) (1.0.1)\n",
      "Requirement already satisfied: charset-normalizer<4,>=2 in /Users/vinu/Library/Python/3.9/lib/python/site-packages (from requests<3,>=2->langchain) (3.4.0)\n",
      "Requirement already satisfied: pygments<3.0.0,>=2.13.0 in /Users/vinu/Library/Python/3.9/lib/python/site-packages (from rich>=10.11.0->chromadb) (2.18.0)\n",
      "Requirement already satisfied: markdown-it-py>=2.2.0 in /Users/vinu/Library/Python/3.9/lib/python/site-packages (from rich>=10.11.0->chromadb) (3.0.0)\n",
      "Requirement already satisfied: mdurl~=0.1 in /Users/vinu/Library/Python/3.9/lib/python/site-packages (from markdown-it-py>=2.2.0->rich>=10.11.0->chromadb) (0.1.2)\n",
      "Requirement already satisfied: huggingface-hub<1.0,>=0.16.4 in /Users/vinu/Library/Python/3.9/lib/python/site-packages (from tokenizers>=0.13.2->chromadb) (0.26.0)\n",
      "Requirement already satisfied: filelock in /Users/vinu/Library/Python/3.9/lib/python/site-packages (from huggingface-hub<1.0,>=0.16.4->tokenizers>=0.13.2->chromadb) (3.16.1)\n",
      "Requirement already satisfied: fsspec>=2023.5.0 in /Users/vinu/Library/Python/3.9/lib/python/site-packages (from huggingface-hub<1.0,>=0.16.4->tokenizers>=0.13.2->chromadb) (2024.9.0)\n",
      "Requirement already satisfied: shellingham>=1.3.0 in /Users/vinu/Library/Python/3.9/lib/python/site-packages (from typer>=0.9.0->chromadb) (1.5.4)\n",
      "Requirement already satisfied: click>=8.0.0 in /Users/vinu/Library/Python/3.9/lib/python/site-packages (from typer>=0.9.0->chromadb) (8.1.7)\n",
      "Requirement already satisfied: mypy-extensions>=0.3.0 in /Users/vinu/Library/Python/3.9/lib/python/site-packages (from typing-inspect<1,>=0.4.0->dataclasses-json<0.7,>=0.5.7->langchain_community) (1.0.0)\n",
      "Requirement already satisfied: uvloop!=0.15.0,!=0.15.1,>=0.14.0 in /Users/vinu/Library/Python/3.9/lib/python/site-packages (from uvicorn[standard]>=0.18.3->chromadb) (0.21.0)\n",
      "Requirement already satisfied: websockets>=10.4 in /Users/vinu/Library/Python/3.9/lib/python/site-packages (from uvicorn[standard]>=0.18.3->chromadb) (13.1)\n",
      "Requirement already satisfied: httptools>=0.5.0 in /Users/vinu/Library/Python/3.9/lib/python/site-packages (from uvicorn[standard]>=0.18.3->chromadb) (0.6.4)\n",
      "Requirement already satisfied: watchfiles>=0.13 in /Users/vinu/Library/Python/3.9/lib/python/site-packages (from uvicorn[standard]>=0.18.3->chromadb) (0.24.0)\n",
      "Requirement already satisfied: propcache>=0.2.0 in /Users/vinu/Library/Python/3.9/lib/python/site-packages (from yarl<2.0,>=1.12.0->aiohttp<4.0.0,>=3.8.3->langchain) (0.2.0)\n",
      "Requirement already satisfied: humanfriendly>=9.1 in /Users/vinu/Library/Python/3.9/lib/python/site-packages (from coloredlogs->onnxruntime>=1.14.1->chromadb) (10.0)\n",
      "Requirement already satisfied: mpmath<1.4,>=1.1.0 in /Users/vinu/Library/Python/3.9/lib/python/site-packages (from sympy->onnxruntime>=1.14.1->chromadb) (1.3.0)\n",
      "\u001b[33mWARNING: You are using pip version 21.2.4; however, version 24.2 is available.\n",
      "You should consider upgrading via the '/Library/Developer/CommandLineTools/usr/bin/python3 -m pip install --upgrade pip' command.\u001b[0m\n",
      "Note: you may need to restart the kernel to use updated packages.\n"
     ]
    }
   ],
   "source": [
    "%pip install langchain chromadb pypdf2 ollama langchain_community langchain-ollama openai tiktoken"
   ]
  },
  {
   "cell_type": "code",
   "execution_count": 9,
   "metadata": {},
   "outputs": [],
   "source": [
    "import os\n",
    "\n",
    "os.environ['OPENAI_API_KEY'] = ''"
   ]
  },
  {
   "cell_type": "code",
   "execution_count": 10,
   "metadata": {},
   "outputs": [],
   "source": [
    "import PyPDF2\n",
    "\n",
    "def extract_text_from_pdf(pdf_file):\n",
    "    reader = PyPDF2.PdfReader(pdf_file)\n",
    "    text = \"\"\n",
    "    for page in reader.pages:\n",
    "        text += page.extract_text()\n",
    "    return text\n"
   ]
  },
  {
   "cell_type": "code",
   "execution_count": 11,
   "metadata": {},
   "outputs": [],
   "source": [
    "from langchain.vectorstores import Chroma\n",
    "from langchain.embeddings.openai import OpenAIEmbeddings\n",
    "from langchain_ollama import OllamaEmbeddings\n",
    "from langchain.docstore.document import Document\n",
    "from langchain.text_splitter import RecursiveCharacterTextSplitter\n",
    "from langchain_ollama.llms import OllamaLLM\n",
    "\n",
    "embedding_function = OllamaEmbeddings(model='nomic-embed-text')  \n",
    "vector_store = Chroma(embedding_function=embedding_function, collection_name=\"Capital\", persist_directory=\"./chromadb\")\n",
    "\n",
    "def index_pdf_to_chroma(pdf_file, vector_store):\n",
    "    text = extract_text_from_pdf(pdf_file)\n",
    "    \n",
    "    text_splitter = RecursiveCharacterTextSplitter(chunk_size=1000, chunk_overlap=100)\n",
    "    texts = text_splitter.split_text(text)\n",
    "    \n",
    "    docs = [Document(page_content=chunk) for chunk in texts]\n",
    "    \n",
    "    vector_store.add_documents(docs)\n"
   ]
  },
  {
   "cell_type": "code",
   "execution_count": 12,
   "metadata": {},
   "outputs": [],
   "source": [
    "def retrieve_from_chroma(query, vector_store):\n",
    "    docs = vector_store.similarity_search(query, k=5) \n",
    "    return docs\n"
   ]
  },
  {
   "cell_type": "code",
   "execution_count": 13,
   "metadata": {},
   "outputs": [],
   "source": [
    "def generate_answer(query, vector_store, chat_llm):\n",
    "    relevant_docs = retrieve_from_chroma(query, vector_store)\n",
    "    context = \"\\n\".join([doc.page_content for doc in relevant_docs])\n",
    "\n",
    "    prompt = f\"Context: {context}\\n\\nQuestion: {query}\\n\\nAnswer:\"\n",
    "    response = chat_llm.invoke(prompt)\n",
    "    return response\n"
   ]
  },
  {
   "cell_type": "code",
   "execution_count": 28,
   "metadata": {},
   "outputs": [],
   "source": [
    "def generate_mcqs(query, vector_store, chat_llm):\n",
    "    relevant_docs = retrieve_from_chroma(query, vector_store)\n",
    "    context = \"\\n\".join([doc.page_content for doc in relevant_docs])\n",
    "\n",
    "    prompt = \"Context:\" + context + \"\"\"\\n\\n Generate 5 MCQ type of question in a structure manner as like in JSON format along with the correct option and make sure options are not too long and questions are well defined, example output: [\n",
    "  {\n",
    "    \"question\": \"What is the Internal Rate of Return (IRR)?\",\n",
    "    \"options\": [\n",
    "      \"The discount rate at which the net present value of all cash flows equals zero.\",\n",
    "      \"The interest rate that makes the sum of the present value of future cash flows equal to the initial investment.\",\n",
    "      \"The ratio of average annual accounting profit to the initial investment cost.\"\n",
    "    ],\n",
    "    \"correct\": 1\n",
    "  },\n",
    "  {\n",
    "    \"question\": \"What is the Decision Rule for IRR?\",\n",
    "    \"options\": [\n",
    "      \"If the IRR exceeds the required rate of return or cost of capital, reject the project.\",\n",
    "      \"If the IRR equals the required rate of return or cost of capital, accept the project.\",\n",
    "      \"If the IRR exceeds the required rate of return or cost of capital, accept the project.\"\n",
    "    ],\n",
    "    \"correct\": 2\n",
    "  }]. Additionally make sure about: \"\"\" + query\n",
    "    \n",
    "    response = chat_llm.invoke(prompt)\n",
    "    return response"
   ]
  },
  {
   "cell_type": "code",
   "execution_count": 29,
   "metadata": {},
   "outputs": [],
   "source": [
    "chat_llm = OllamaLLM(model=\"llama3.2\")\n"
   ]
  },
  {
   "cell_type": "code",
   "execution_count": 30,
   "metadata": {},
   "outputs": [],
   "source": [
    "pdf_file_path = \"./Capital.pdf\"\n",
    "index_pdf_to_chroma(pdf_file_path, vector_store)\n"
   ]
  },
  {
   "cell_type": "code",
   "execution_count": 31,
   "metadata": {},
   "outputs": [
    {
     "name": "stdout",
     "output_type": "stream",
     "text": [
      "Output: Here are five MCQ-style questions in JSON format along with the correct options:\n",
      "\n",
      "[\n",
      "  {\n",
      "    \"question\": \"What is the primary goal of allocating available capital to projects during Capital Budgeting?\",\n",
      "    \"options\": [\n",
      "      \"To maximize profits\",\n",
      "      \"To minimize costs\",\n",
      "      \"To allocate available capital to the most valuable projects while staying within budget\"\n",
      "    ],\n",
      "    \"correct\": 3\n",
      "  },\n",
      "  {\n",
      "    \"question\": \"What type of capital rationing is imposed by a company's management to maintain control over capital expenditures?\",\n",
      "    \"options\": [\n",
      "      \"Hard Capital Rationing\",\n",
      "      \"Soft Capital Rationing\",\n",
      "      \"Both Hard and Soft Capital Rationing\"\n",
      "    ],\n",
      "    \"correct\": 2\n",
      "  },\n",
      "  {\n",
      "    \"question\": \"What is the formula for calculating Internal Rate of Return (IRR)?\",\n",
      "    \"options\": [\n",
      "      \"Trial and error or financial calculators\",\n",
      "      \"NPV equals zero\",\n",
      "      \"IRR equals the cost of capital\"\n",
      "    ],\n",
      "    \"correct\": 1\n",
      "  },\n",
      "  {\n",
      "    \"question\": \"According to the Decision Rule, what happens if the IRR exceeds the required rate of return or cost of capital?\",\n",
      "    \"options\": [\n",
      "      \"Accept the project\",\n",
      "      \"Reject the project\",\n",
      "      \"Consider alternative options\"\n",
      "    ],\n",
      "    \"correct\": 2\n",
      "  },\n",
      "  {\n",
      "    \"question\": \"What is the expected life of a machine that requires replacement after five years and has a salvage value of ₹3,00,000?\",\n",
      "    \"options\": [\n",
      "      \"2 years\",\n",
      "      \"5 years\",\n",
      "      \"10 years\"\n",
      "    ],\n",
      "    \"correct\": 1\n",
      "  }\n",
      "]\n"
     ]
    }
   ],
   "source": [
    "query = \"Give me hard\"\n",
    "answer = generate_mcqs(query, vector_store, chat_llm)\n",
    "print(\"Output:\", answer)"
   ]
  },
  {
   "cell_type": "code",
   "execution_count": 36,
   "metadata": {},
   "outputs": [],
   "source": [
    "data = answer[answer.index('[') : answer.rindex(']')+1]"
   ]
  },
  {
   "cell_type": "code",
   "execution_count": 38,
   "metadata": {},
   "outputs": [],
   "source": [
    "import json"
   ]
  },
  {
   "cell_type": "code",
   "execution_count": 39,
   "metadata": {},
   "outputs": [
    {
     "data": {
      "text/plain": [
       "[{'question': 'What is the primary goal of allocating available capital to projects during Capital Budgeting?',\n",
       "  'options': ['To maximize profits',\n",
       "   'To minimize costs',\n",
       "   'To allocate available capital to the most valuable projects while staying within budget'],\n",
       "  'correct': 3},\n",
       " {'question': \"What type of capital rationing is imposed by a company's management to maintain control over capital expenditures?\",\n",
       "  'options': ['Hard Capital Rationing',\n",
       "   'Soft Capital Rationing',\n",
       "   'Both Hard and Soft Capital Rationing'],\n",
       "  'correct': 2},\n",
       " {'question': 'What is the formula for calculating Internal Rate of Return (IRR)?',\n",
       "  'options': ['Trial and error or financial calculators',\n",
       "   'NPV equals zero',\n",
       "   'IRR equals the cost of capital'],\n",
       "  'correct': 1},\n",
       " {'question': 'According to the Decision Rule, what happens if the IRR exceeds the required rate of return or cost of capital?',\n",
       "  'options': ['Accept the project',\n",
       "   'Reject the project',\n",
       "   'Consider alternative options'],\n",
       "  'correct': 2},\n",
       " {'question': 'What is the expected life of a machine that requires replacement after five years and has a salvage value of ₹3,00,000?',\n",
       "  'options': ['2 years', '5 years', '10 years'],\n",
       "  'correct': 1}]"
      ]
     },
     "execution_count": 39,
     "metadata": {},
     "output_type": "execute_result"
    }
   ],
   "source": [
    "json.loads(data)"
   ]
  },
  {
   "cell_type": "code",
   "execution_count": 4,
   "metadata": {},
   "outputs": [
    {
     "name": "stdout",
     "output_type": "stream",
     "text": [
      "Defaulting to user installation because normal site-packages is not writeable\n",
      "Collecting openai-whisper\n",
      "  Using cached openai_whisper-20240930-py3-none-any.whl\n",
      "Requirement already satisfied: numpy in /Users/vinu/Library/Python/3.9/lib/python/site-packages (from openai-whisper) (1.26.4)\n",
      "Requirement already satisfied: torch in /Users/vinu/Library/Python/3.9/lib/python/site-packages (from openai-whisper) (2.4.1)\n",
      "Requirement already satisfied: tqdm in /Users/vinu/Library/Python/3.9/lib/python/site-packages (from openai-whisper) (4.66.5)\n",
      "Requirement already satisfied: tiktoken in /Users/vinu/Library/Python/3.9/lib/python/site-packages (from openai-whisper) (0.8.0)\n",
      "Collecting numba\n",
      "  Using cached numba-0.60.0-cp39-cp39-macosx_11_0_arm64.whl (2.7 MB)\n",
      "Collecting more-itertools\n",
      "  Using cached more_itertools-10.5.0-py3-none-any.whl (60 kB)\n",
      "Collecting llvmlite<0.44,>=0.43.0dev0\n",
      "  Using cached llvmlite-0.43.0-cp39-cp39-macosx_11_0_arm64.whl (28.8 MB)\n",
      "Requirement already satisfied: requests>=2.26.0 in /Users/vinu/Library/Python/3.9/lib/python/site-packages (from tiktoken->openai-whisper) (2.32.3)\n",
      "Requirement already satisfied: regex>=2022.1.18 in /Users/vinu/Library/Python/3.9/lib/python/site-packages (from tiktoken->openai-whisper) (2024.9.11)\n",
      "Requirement already satisfied: certifi>=2017.4.17 in /Users/vinu/Library/Python/3.9/lib/python/site-packages (from requests>=2.26.0->tiktoken->openai-whisper) (2024.8.30)\n",
      "Requirement already satisfied: idna<4,>=2.5 in /Users/vinu/Library/Python/3.9/lib/python/site-packages (from requests>=2.26.0->tiktoken->openai-whisper) (3.10)\n",
      "Requirement already satisfied: urllib3<3,>=1.21.1 in /Users/vinu/Library/Python/3.9/lib/python/site-packages (from requests>=2.26.0->tiktoken->openai-whisper) (2.2.3)\n",
      "Requirement already satisfied: charset-normalizer<4,>=2 in /Users/vinu/Library/Python/3.9/lib/python/site-packages (from requests>=2.26.0->tiktoken->openai-whisper) (3.4.0)\n",
      "Requirement already satisfied: filelock in /Users/vinu/Library/Python/3.9/lib/python/site-packages (from torch->openai-whisper) (3.16.1)\n",
      "Requirement already satisfied: jinja2 in /Users/vinu/Library/Python/3.9/lib/python/site-packages (from torch->openai-whisper) (3.1.4)\n",
      "Requirement already satisfied: typing-extensions>=4.8.0 in /Users/vinu/Library/Python/3.9/lib/python/site-packages (from torch->openai-whisper) (4.12.2)\n",
      "Requirement already satisfied: sympy in /Users/vinu/Library/Python/3.9/lib/python/site-packages (from torch->openai-whisper) (1.13.3)\n",
      "Requirement already satisfied: fsspec in /Users/vinu/Library/Python/3.9/lib/python/site-packages (from torch->openai-whisper) (2024.9.0)\n",
      "Requirement already satisfied: networkx in /Users/vinu/Library/Python/3.9/lib/python/site-packages (from torch->openai-whisper) (3.2.1)\n",
      "Requirement already satisfied: MarkupSafe>=2.0 in /Users/vinu/Library/Python/3.9/lib/python/site-packages (from jinja2->torch->openai-whisper) (3.0.1)\n",
      "Requirement already satisfied: mpmath<1.4,>=1.1.0 in /Users/vinu/Library/Python/3.9/lib/python/site-packages (from sympy->torch->openai-whisper) (1.3.0)\n",
      "Installing collected packages: llvmlite, numba, more-itertools, openai-whisper\n",
      "Successfully installed llvmlite-0.43.0 more-itertools-10.5.0 numba-0.60.0 openai-whisper-20240930\n",
      "\u001b[33mWARNING: You are using pip version 21.2.4; however, version 24.2 is available.\n",
      "You should consider upgrading via the '/Library/Developer/CommandLineTools/usr/bin/python3 -m pip install --upgrade pip' command.\u001b[0m\n"
     ]
    }
   ],
   "source": [
    "!pip3 install openai-whisper"
   ]
  },
  {
   "cell_type": "code",
   "execution_count": 5,
   "metadata": {},
   "outputs": [],
   "source": [
    "import whisper"
   ]
  },
  {
   "cell_type": "code",
   "execution_count": 6,
   "metadata": {},
   "outputs": [
    {
     "name": "stderr",
     "output_type": "stream",
     "text": [
      "100%|███████████████████████████████████████| 461M/461M [04:08<00:00, 1.94MiB/s]\n",
      "/Users/vinu/Library/Python/3.9/lib/python/site-packages/whisper/__init__.py:150: FutureWarning: You are using `torch.load` with `weights_only=False` (the current default value), which uses the default pickle module implicitly. It is possible to construct malicious pickle data which will execute arbitrary code during unpickling (See https://github.com/pytorch/pytorch/blob/main/SECURITY.md#untrusted-models for more details). In a future release, the default value for `weights_only` will be flipped to `True`. This limits the functions that could be executed during unpickling. Arbitrary objects will no longer be allowed to be loaded via this mode unless they are explicitly allowlisted by the user via `torch.serialization.add_safe_globals`. We recommend you start setting `weights_only=True` for any use case where you don't have full control of the loaded file. Please open an issue on GitHub for any issues related to this experimental feature.\n",
      "  checkpoint = torch.load(fp, map_location=device)\n"
     ]
    }
   ],
   "source": [
    "\n",
    "model = whisper.load_model(\"small\")"
   ]
  },
  {
   "cell_type": "code",
   "execution_count": 11,
   "metadata": {},
   "outputs": [
    {
     "name": "stderr",
     "output_type": "stream",
     "text": [
      "/Users/vinu/Library/Python/3.9/lib/python/site-packages/whisper/transcribe.py:126: UserWarning: FP16 is not supported on CPU; using FP32 instead\n",
      "  warnings.warn(\"FP16 is not supported on CPU; using FP32 instead\")\n"
     ]
    },
    {
     "name": "stdout",
     "output_type": "stream",
     "text": [
      " වවවවවවවවවවවවවවවවවවවවවවවවවවවවවවවවවවවවවවවවවවවවවවවවවවවවවවවවවවවවවවවවවවවවවවවවවවවවවවවවවවවවවවවවවවවවවවවවවවවවවවවවවවවවවවව\n"
     ]
    }
   ],
   "source": [
    "result = model.transcribe(\"https://studius.s3.ap-south-1.amazonaws.com/cm2ev0gep0001d0e3yyei36nz/cm2ev0gep0001d0e3yyei36nz/2024-10-18T22%3A54%3A45.724Z.mp3\")\n",
    "print(result[\"text\"])"
   ]
  },
  {
   "cell_type": "code",
   "execution_count": null,
   "metadata": {},
   "outputs": [],
   "source": []
  }
 ],
 "metadata": {
  "kernelspec": {
   "display_name": "venv",
   "language": "python",
   "name": "python3"
  },
  "language_info": {
   "codemirror_mode": {
    "name": "ipython",
    "version": 3
   },
   "file_extension": ".py",
   "mimetype": "text/x-python",
   "name": "python",
   "nbconvert_exporter": "python",
   "pygments_lexer": "ipython3",
   "version": "3.9.8"
  }
 },
 "nbformat": 4,
 "nbformat_minor": 2
}
